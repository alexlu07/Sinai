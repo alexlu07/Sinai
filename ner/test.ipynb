{
 "cells": [
  {
   "cell_type": "code",
   "execution_count": 1,
   "metadata": {},
   "outputs": [
    {
     "name": "stderr",
     "output_type": "stream",
     "text": [
      "Some weights of BertForTokenClassificationWithCRF were not initialized from the model checkpoint at michiyasunaga/LinkBERT-large and are newly initialized: ['classifier.bias', 'classifier.weight', 'crf.end_transitions', 'crf.start_transitions', 'crf.transitions']\n",
      "You should probably TRAIN this model on a down-stream task to be able to use it for predictions and inference.\n"
     ]
    }
   ],
   "source": [
    "from transformers import AutoTokenizer, BertForTokenClassification\n",
    "from crf import BertForTokenClassificationWithCRF\n",
    "tokenizer = AutoTokenizer.from_pretrained('michiyasunaga/LinkBERT-large')\n",
    "model = BertForTokenClassificationWithCRF.from_pretrained('michiyasunaga/LinkBERT-large')\n",
    "model = model.train()"
   ]
  },
  {
   "cell_type": "code",
   "execution_count": 2,
   "metadata": {},
   "outputs": [],
   "source": [
    "import torch\n",
    "labels = torch.LongTensor([0, 0, 1, 0, 1, 0, 1, 0]).unsqueeze(0)\n",
    "inputs = tokenizer(\"Hello, my dog is cute\", return_tensors=\"pt\")\n",
    "\n",
    "optim = torch.optim.Adam(model.parameters(), lr=1e-5)"
   ]
  },
  {
   "cell_type": "code",
   "execution_count": 3,
   "metadata": {},
   "outputs": [
    {
     "name": "stdout",
     "output_type": "stream",
     "text": [
      "5.494658470153809 tensor([[0, 0, 0, 0, 0, 0, 0, 0]]) tensor([[0, 0, 0, 0, 0, 0, 0, 0]])\n",
      "5.330991268157959 tensor([[0, 0, 0, 0, 0, 0, 0, 0]]) tensor([[0, 0, 0, 0, 0, 0, 0, 0]])\n",
      "5.025940895080566 tensor([[0, 0, 0, 0, 0, 0, 0, 0]]) tensor([[0, 0, 0, 0, 0, 0, 0, 0]])\n",
      "4.97379207611084 tensor([[0, 0, 0, 0, 0, 0, 0, 0]]) tensor([[0, 0, 0, 0, 0, 0, 0, 0]])\n",
      "4.977534770965576 tensor([[0, 0, 0, 0, 0, 0, 0, 0]]) tensor([[0, 0, 0, 0, 0, 0, 0, 0]])\n",
      "4.856239318847656 tensor([[0, 0, 0, 0, 0, 0, 0, 0]]) tensor([[0, 0, 0, 0, 0, 0, 0, 0]])\n",
      "4.328834533691406 tensor([[0, 0, 0, 0, 0, 0, 0, 0]]) tensor([[0, 0, 0, 0, 0, 0, 0, 0]])\n",
      "4.430446624755859 tensor([[0, 0, 0, 0, 1, 0, 0, 0]]) tensor([[0, 0, 0, 0, 1, 0, 0, 0]])\n",
      "4.1157708168029785 tensor([[0, 0, 0, 0, 0, 0, 0, 0]]) tensor([[0, 0, 0, 0, 0, 0, 0, 0]])\n",
      "3.922736406326294 tensor([[0, 0, 0, 0, 1, 0, 0, 0]]) tensor([[0, 0, 0, 0, 1, 0, 0, 0]])\n",
      "4.050175666809082 tensor([[0, 0, 0, 0, 1, 0, 0, 0]]) tensor([[0, 0, 0, 0, 1, 0, 0, 0]])\n",
      "3.6723575592041016 tensor([[0, 0, 0, 0, 1, 0, 0, 0]]) tensor([[0, 0, 0, 0, 1, 0, 0, 0]])\n",
      "7.888274669647217 tensor([[0, 0, 0, 1, 0, 0, 0, 0]]) tensor([[0, 0, 0, 1, 0, 0, 0, 0]])\n",
      "3.101130247116089 tensor([[0, 0, 1, 0, 1, 0, 1, 0]]) tensor([[0, 0, 1, 0, 1, 0, 1, 0]])\n",
      "3.3355119228363037 tensor([[0, 0, 1, 0, 1, 0, 1, 0]]) tensor([[0, 0, 1, 0, 1, 0, 1, 0]])\n",
      "3.227315902709961 tensor([[0, 0, 1, 0, 1, 0, 1, 0]]) tensor([[0, 0, 1, 0, 1, 0, 1, 0]])\n",
      "3.237441301345825 tensor([[0, 0, 1, 0, 1, 0, 1, 0]]) tensor([[0, 0, 1, 0, 1, 0, 1, 0]])\n",
      "3.4631381034851074 tensor([[0, 1, 1, 0, 1, 0, 0, 0]]) tensor([[0, 1, 1, 0, 1, 0, 0, 0]])\n",
      "3.3378965854644775 tensor([[0, 0, 0, 0, 1, 0, 1, 0]]) tensor([[0, 0, 0, 0, 1, 0, 1, 0]])\n",
      "3.5771403312683105 tensor([[0, 0, 0, 0, 1, 0, 1, 0]]) tensor([[0, 0, 0, 0, 1, 0, 1, 0]])\n",
      "2.827751636505127 tensor([[0, 0, 1, 0, 1, 0, 1, 0]]) tensor([[0, 0, 1, 0, 1, 0, 1, 0]])\n",
      "3.0555925369262695 tensor([[0, 0, 0, 0, 1, 0, 1, 0]]) tensor([[0, 0, 0, 0, 1, 0, 1, 0]])\n",
      "2.6484546661376953 tensor([[0, 0, 1, 0, 1, 0, 1, 0]]) tensor([[0, 0, 1, 0, 1, 0, 1, 0]])\n",
      "2.478121757507324 tensor([[0, 0, 1, 0, 1, 0, 1, 0]]) tensor([[0, 0, 1, 0, 1, 0, 1, 0]])\n",
      "2.3997416496276855 tensor([[0, 0, 1, 0, 1, 0, 1, 0]]) tensor([[0, 0, 1, 0, 1, 0, 1, 0]])\n",
      "2.408550262451172 tensor([[0, 0, 1, 0, 1, 0, 1, 0]]) tensor([[0, 0, 1, 0, 1, 0, 1, 0]])\n",
      "2.5505104064941406 tensor([[0, 0, 1, 0, 1, 0, 1, 0]]) tensor([[0, 0, 1, 0, 1, 0, 1, 0]])\n",
      "2.535341739654541 tensor([[0, 0, 1, 0, 1, 0, 1, 0]]) tensor([[0, 0, 1, 0, 1, 0, 1, 0]])\n",
      "2.2318954467773438 tensor([[0, 0, 1, 0, 1, 0, 1, 0]]) tensor([[0, 0, 1, 0, 1, 0, 1, 0]])\n",
      "2.1479196548461914 tensor([[0, 0, 1, 0, 1, 0, 1, 0]]) tensor([[0, 0, 1, 0, 1, 0, 1, 0]])\n",
      "2.2422432899475098 tensor([[0, 0, 1, 0, 1, 0, 1, 0]]) tensor([[0, 0, 1, 0, 1, 0, 1, 0]])\n",
      "6.428675174713135 tensor([[0, 0, 0, 0, 0, 0, 0, 0]]) tensor([[0, 0, 0, 0, 0, 0, 0, 0]])\n",
      "1.9427227973937988 tensor([[0, 0, 1, 0, 1, 0, 1, 0]]) tensor([[0, 0, 1, 0, 1, 0, 1, 0]])\n",
      "5.585714817047119 tensor([[0, 0, 1, 0, 1, 0, 0, 0]]) tensor([[0, 0, 1, 0, 1, 0, 0, 0]])\n",
      "1.8746552467346191 tensor([[0, 0, 1, 0, 1, 0, 1, 0]]) tensor([[0, 0, 1, 0, 1, 0, 1, 0]])\n",
      "1.6191229820251465 tensor([[0, 0, 1, 0, 1, 0, 1, 0]]) tensor([[0, 0, 1, 0, 1, 0, 1, 0]])\n",
      "1.2868390083312988 tensor([[0, 0, 1, 0, 1, 0, 1, 0]]) tensor([[0, 0, 1, 0, 1, 0, 1, 0]])\n",
      "1.4934992790222168 tensor([[0, 0, 1, 0, 1, 0, 1, 0]]) tensor([[0, 0, 1, 0, 1, 0, 1, 0]])\n",
      "1.6257691383361816 tensor([[0, 0, 1, 0, 1, 0, 1, 0]]) tensor([[0, 0, 1, 0, 1, 0, 1, 0]])\n",
      "1.3445205688476562 tensor([[0, 0, 1, 0, 1, 0, 1, 0]]) tensor([[0, 0, 1, 0, 1, 0, 1, 0]])\n",
      "1.3283095359802246 tensor([[0, 0, 1, 0, 1, 0, 1, 0]]) tensor([[0, 0, 1, 0, 1, 0, 1, 0]])\n",
      "1.7431421279907227 tensor([[0, 0, 1, 0, 1, 0, 1, 0]]) tensor([[0, 0, 1, 0, 1, 0, 1, 0]])\n",
      "1.563098430633545 tensor([[0, 0, 1, 0, 1, 0, 1, 0]]) tensor([[0, 0, 1, 0, 1, 0, 1, 0]])\n",
      "1.017221450805664 tensor([[0, 0, 1, 0, 1, 0, 1, 0]]) tensor([[0, 0, 1, 0, 1, 0, 1, 0]])\n",
      "0.8405132293701172 tensor([[0, 0, 1, 0, 1, 0, 1, 0]]) tensor([[0, 0, 1, 0, 1, 0, 1, 0]])\n",
      "1.1470837593078613 tensor([[0, 0, 1, 0, 1, 0, 1, 0]]) tensor([[0, 0, 1, 0, 1, 0, 1, 0]])\n",
      "0.86456298828125 tensor([[0, 0, 1, 0, 1, 0, 1, 0]]) tensor([[0, 0, 1, 0, 1, 0, 1, 0]])\n",
      "0.8808393478393555 tensor([[0, 0, 1, 0, 1, 0, 1, 0]]) tensor([[0, 0, 1, 0, 1, 0, 1, 0]])\n",
      "0.8990650177001953 tensor([[0, 0, 1, 0, 1, 0, 1, 0]]) tensor([[0, 0, 1, 0, 1, 0, 1, 0]])\n",
      "0.8234481811523438 tensor([[0, 0, 1, 0, 1, 0, 1, 0]]) tensor([[0, 0, 1, 0, 1, 0, 1, 0]])\n",
      "0.7081804275512695 tensor([[0, 0, 1, 0, 1, 0, 1, 0]]) tensor([[0, 0, 1, 0, 1, 0, 1, 0]])\n",
      "0.8015937805175781 tensor([[0, 0, 1, 0, 1, 0, 1, 0]]) tensor([[0, 0, 1, 0, 1, 0, 1, 0]])\n",
      "0.7834863662719727 tensor([[0, 0, 1, 0, 1, 0, 1, 0]]) tensor([[0, 0, 1, 0, 1, 0, 1, 0]])\n",
      "0.5023612976074219 tensor([[0, 0, 1, 0, 1, 0, 1, 0]]) tensor([[0, 0, 1, 0, 1, 0, 1, 0]])\n",
      "0.6060361862182617 tensor([[0, 0, 1, 0, 1, 0, 1, 0]]) tensor([[0, 0, 1, 0, 1, 0, 1, 0]])\n",
      "0.588627815246582 tensor([[0, 0, 1, 0, 1, 0, 1, 0]]) tensor([[0, 0, 1, 0, 1, 0, 1, 0]])\n",
      "0.55670166015625 tensor([[0, 0, 1, 0, 1, 0, 1, 0]]) tensor([[0, 0, 1, 0, 1, 0, 1, 0]])\n",
      "0.4457683563232422 tensor([[0, 0, 1, 0, 1, 0, 1, 0]]) tensor([[0, 0, 1, 0, 1, 0, 1, 0]])\n",
      "0.526890754699707 tensor([[0, 0, 1, 0, 1, 0, 1, 0]]) tensor([[0, 0, 1, 0, 1, 0, 1, 0]])\n",
      "0.4227161407470703 tensor([[0, 0, 1, 0, 1, 0, 1, 0]]) tensor([[0, 0, 1, 0, 1, 0, 1, 0]])\n"
     ]
    },
    {
     "ename": "KeyboardInterrupt",
     "evalue": "",
     "output_type": "error",
     "traceback": [
      "\u001b[0;31m---------------------------------------------------------------------------\u001b[0m",
      "\u001b[0;31mKeyboardInterrupt\u001b[0m                         Traceback (most recent call last)",
      "Cell \u001b[0;32mIn[3], line 6\u001b[0m\n\u001b[1;32m      2\u001b[0m optim\u001b[38;5;241m.\u001b[39mzero_grad()\n\u001b[1;32m      4\u001b[0m outputs \u001b[38;5;241m=\u001b[39m model(\u001b[38;5;241m*\u001b[39m\u001b[38;5;241m*\u001b[39minputs, labels\u001b[38;5;241m=\u001b[39mlabels)    \n\u001b[0;32m----> 6\u001b[0m \u001b[43moutputs\u001b[49m\u001b[38;5;241;43m.\u001b[39;49m\u001b[43mloss\u001b[49m\u001b[38;5;241;43m.\u001b[39;49m\u001b[43mbackward\u001b[49m\u001b[43m(\u001b[49m\u001b[43m)\u001b[49m\n\u001b[1;32m      7\u001b[0m optim\u001b[38;5;241m.\u001b[39mstep()\n\u001b[1;32m     10\u001b[0m \u001b[38;5;28mprint\u001b[39m(outputs\u001b[38;5;241m.\u001b[39mloss\u001b[38;5;241m.\u001b[39mitem(), torch\u001b[38;5;241m.\u001b[39margmax(outputs\u001b[38;5;241m.\u001b[39mlogits, \u001b[38;5;241m-\u001b[39m\u001b[38;5;241m1\u001b[39m), torch\u001b[38;5;241m.\u001b[39margmax(outputs\u001b[38;5;241m.\u001b[39memissions, \u001b[38;5;241m-\u001b[39m\u001b[38;5;241m1\u001b[39m))\n",
      "File \u001b[0;32m~/miniconda3/envs/scires/lib/python3.12/site-packages/torch/_tensor.py:525\u001b[0m, in \u001b[0;36mTensor.backward\u001b[0;34m(self, gradient, retain_graph, create_graph, inputs)\u001b[0m\n\u001b[1;32m    515\u001b[0m \u001b[38;5;28;01mif\u001b[39;00m has_torch_function_unary(\u001b[38;5;28mself\u001b[39m):\n\u001b[1;32m    516\u001b[0m     \u001b[38;5;28;01mreturn\u001b[39;00m handle_torch_function(\n\u001b[1;32m    517\u001b[0m         Tensor\u001b[38;5;241m.\u001b[39mbackward,\n\u001b[1;32m    518\u001b[0m         (\u001b[38;5;28mself\u001b[39m,),\n\u001b[0;32m   (...)\u001b[0m\n\u001b[1;32m    523\u001b[0m         inputs\u001b[38;5;241m=\u001b[39minputs,\n\u001b[1;32m    524\u001b[0m     )\n\u001b[0;32m--> 525\u001b[0m \u001b[43mtorch\u001b[49m\u001b[38;5;241;43m.\u001b[39;49m\u001b[43mautograd\u001b[49m\u001b[38;5;241;43m.\u001b[39;49m\u001b[43mbackward\u001b[49m\u001b[43m(\u001b[49m\n\u001b[1;32m    526\u001b[0m \u001b[43m    \u001b[49m\u001b[38;5;28;43mself\u001b[39;49m\u001b[43m,\u001b[49m\u001b[43m \u001b[49m\u001b[43mgradient\u001b[49m\u001b[43m,\u001b[49m\u001b[43m \u001b[49m\u001b[43mretain_graph\u001b[49m\u001b[43m,\u001b[49m\u001b[43m \u001b[49m\u001b[43mcreate_graph\u001b[49m\u001b[43m,\u001b[49m\u001b[43m \u001b[49m\u001b[43minputs\u001b[49m\u001b[38;5;241;43m=\u001b[39;49m\u001b[43minputs\u001b[49m\n\u001b[1;32m    527\u001b[0m \u001b[43m\u001b[49m\u001b[43m)\u001b[49m\n",
      "File \u001b[0;32m~/miniconda3/envs/scires/lib/python3.12/site-packages/torch/autograd/__init__.py:267\u001b[0m, in \u001b[0;36mbackward\u001b[0;34m(tensors, grad_tensors, retain_graph, create_graph, grad_variables, inputs)\u001b[0m\n\u001b[1;32m    262\u001b[0m     retain_graph \u001b[38;5;241m=\u001b[39m create_graph\n\u001b[1;32m    264\u001b[0m \u001b[38;5;66;03m# The reason we repeat the same comment below is that\u001b[39;00m\n\u001b[1;32m    265\u001b[0m \u001b[38;5;66;03m# some Python versions print out the first line of a multi-line function\u001b[39;00m\n\u001b[1;32m    266\u001b[0m \u001b[38;5;66;03m# calls in the traceback and some print out the last line\u001b[39;00m\n\u001b[0;32m--> 267\u001b[0m \u001b[43m_engine_run_backward\u001b[49m\u001b[43m(\u001b[49m\n\u001b[1;32m    268\u001b[0m \u001b[43m    \u001b[49m\u001b[43mtensors\u001b[49m\u001b[43m,\u001b[49m\n\u001b[1;32m    269\u001b[0m \u001b[43m    \u001b[49m\u001b[43mgrad_tensors_\u001b[49m\u001b[43m,\u001b[49m\n\u001b[1;32m    270\u001b[0m \u001b[43m    \u001b[49m\u001b[43mretain_graph\u001b[49m\u001b[43m,\u001b[49m\n\u001b[1;32m    271\u001b[0m \u001b[43m    \u001b[49m\u001b[43mcreate_graph\u001b[49m\u001b[43m,\u001b[49m\n\u001b[1;32m    272\u001b[0m \u001b[43m    \u001b[49m\u001b[43minputs\u001b[49m\u001b[43m,\u001b[49m\n\u001b[1;32m    273\u001b[0m \u001b[43m    \u001b[49m\u001b[43mallow_unreachable\u001b[49m\u001b[38;5;241;43m=\u001b[39;49m\u001b[38;5;28;43;01mTrue\u001b[39;49;00m\u001b[43m,\u001b[49m\n\u001b[1;32m    274\u001b[0m \u001b[43m    \u001b[49m\u001b[43maccumulate_grad\u001b[49m\u001b[38;5;241;43m=\u001b[39;49m\u001b[38;5;28;43;01mTrue\u001b[39;49;00m\u001b[43m,\u001b[49m\n\u001b[1;32m    275\u001b[0m \u001b[43m\u001b[49m\u001b[43m)\u001b[49m\n",
      "File \u001b[0;32m~/miniconda3/envs/scires/lib/python3.12/site-packages/torch/autograd/graph.py:744\u001b[0m, in \u001b[0;36m_engine_run_backward\u001b[0;34m(t_outputs, *args, **kwargs)\u001b[0m\n\u001b[1;32m    742\u001b[0m     unregister_hooks \u001b[38;5;241m=\u001b[39m _register_logging_hooks_on_whole_graph(t_outputs)\n\u001b[1;32m    743\u001b[0m \u001b[38;5;28;01mtry\u001b[39;00m:\n\u001b[0;32m--> 744\u001b[0m     \u001b[38;5;28;01mreturn\u001b[39;00m \u001b[43mVariable\u001b[49m\u001b[38;5;241;43m.\u001b[39;49m\u001b[43m_execution_engine\u001b[49m\u001b[38;5;241;43m.\u001b[39;49m\u001b[43mrun_backward\u001b[49m\u001b[43m(\u001b[49m\u001b[43m  \u001b[49m\u001b[38;5;66;43;03m# Calls into the C++ engine to run the backward pass\u001b[39;49;00m\n\u001b[1;32m    745\u001b[0m \u001b[43m        \u001b[49m\u001b[43mt_outputs\u001b[49m\u001b[43m,\u001b[49m\u001b[43m \u001b[49m\u001b[38;5;241;43m*\u001b[39;49m\u001b[43margs\u001b[49m\u001b[43m,\u001b[49m\u001b[43m \u001b[49m\u001b[38;5;241;43m*\u001b[39;49m\u001b[38;5;241;43m*\u001b[39;49m\u001b[43mkwargs\u001b[49m\n\u001b[1;32m    746\u001b[0m \u001b[43m    \u001b[49m\u001b[43m)\u001b[49m  \u001b[38;5;66;03m# Calls into the C++ engine to run the backward pass\u001b[39;00m\n\u001b[1;32m    747\u001b[0m \u001b[38;5;28;01mfinally\u001b[39;00m:\n\u001b[1;32m    748\u001b[0m     \u001b[38;5;28;01mif\u001b[39;00m attach_logging_hooks:\n",
      "\u001b[0;31mKeyboardInterrupt\u001b[0m: "
     ]
    }
   ],
   "source": [
    "for i in range(100):\n",
    "    optim.zero_grad()\n",
    "\n",
    "    outputs = model(**inputs, labels=labels)    \n",
    "    \n",
    "    outputs.loss.backward()\n",
    "    optim.step()\n",
    "\n",
    "\n",
    "    print(outputs.loss.item(), torch.argmax(outputs.logits, -1), torch.argmax(outputs.emissions, -1))"
   ]
  },
  {
   "cell_type": "code",
   "execution_count": null,
   "metadata": {},
   "outputs": [],
   "source": []
  }
 ],
 "metadata": {
  "kernelspec": {
   "display_name": "scires",
   "language": "python",
   "name": "python3"
  },
  "language_info": {
   "codemirror_mode": {
    "name": "ipython",
    "version": 3
   },
   "file_extension": ".py",
   "mimetype": "text/x-python",
   "name": "python",
   "nbconvert_exporter": "python",
   "pygments_lexer": "ipython3",
   "version": "3.12.2"
  }
 },
 "nbformat": 4,
 "nbformat_minor": 2
}
